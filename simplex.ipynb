{
 "cells": [
  {
   "cell_type": "code",
   "execution_count": 50,
   "metadata": {},
   "outputs": [],
   "source": [
    "import numpy as np"
   ]
  },
  {
   "cell_type": "markdown",
   "metadata": {},
   "source": [
    "### FOR NOW THE INPUTS WILL BE THE MATRIX OF X1,X2,X3,S1,S2,S3 AND THE OBJECTIVE FUNCTION\n",
    "\n",
    "From that point on you will calculate the reduced cost row and start with the procedure of the algorithm."
   ]
  },
  {
   "cell_type": "code",
   "execution_count": 51,
   "metadata": {},
   "outputs": [],
   "source": [
    "def get_cols(rows):\n",
    "    c1,c2,c3=[],[],[]\n",
    "    for r in rows:\n",
    "        c1.append(r[0])\n",
    "        c2.append(r[1])\n",
    "        c3.append(r[2])\n",
    "    c1 = np.array(c1)\n",
    "    c2=np.array(c2)\n",
    "    c3=np.array(c3)\n",
    "    return c1,c2,c3           "
   ]
  },
  {
   "cell_type": "code",
   "execution_count": 52,
   "metadata": {},
   "outputs": [],
   "source": [
    "def is_simplex_needed(r4,mode):\n",
    "    answer=True\n",
    "    if mode == 'max': answer =all(x>=0 for x in r4)\n",
    "    else: answer =all(x<=0 for x in r4)\n",
    "\n",
    "    return answer"
   ]
  },
  {
   "cell_type": "code",
   "execution_count": 53,
   "metadata": {},
   "outputs": [],
   "source": [
    "def get_max_min_reduced_cost(mode,r4):\n",
    "    selected = (0,r4[0])\n",
    "    for i,v in enumerate(r4):\n",
    "        if mode == 'max':\n",
    "            if v < selected[1]: selected = (i,v)\n",
    "            else: pass\n",
    "\n",
    "        if mode == 'min':\n",
    "            if v > selected[1]: selected = (i,v)\n",
    "            else: pass\n",
    "    return selected"
   ]
  },
  {
   "cell_type": "code",
   "execution_count": 54,
   "metadata": {},
   "outputs": [],
   "source": [
    "def get_min_division_row(selected,rows):\n",
    "    chosen = (0,100000)\n",
    "    c=selected[0]\n",
    "    for i,r in enumerate(rows):\n",
    "        \n",
    "        if r[c]>0 and i != 3:\n",
    "            n = r[-1]/r[c]\n",
    "            \n",
    "            if n<chosen[1]: chosen=(i,n)\n",
    "    \n",
    "\n",
    "    return chosen"
   ]
  },
  {
   "cell_type": "code",
   "execution_count": 55,
   "metadata": {},
   "outputs": [],
   "source": [
    "def transform_all_rows(new_row,rows,position):\n",
    "    operator = 0\n",
    "    new_rows = []\n",
    "    for r in rows:\n",
    "        operator = r[position[0]]\n",
    "        new_rows.append(r-operator*new_row)\n",
    "    return new_rows"
   ]
  },
  {
   "cell_type": "code",
   "execution_count": 56,
   "metadata": {},
   "outputs": [
    {
     "name": "stdout",
     "output_type": "stream",
     "text": [
      "[array([ 0.00000000e+00,  1.00000000e+00,  0.00000000e+00,  1.00000000e+00,\n",
      "       -1.50000000e+00, -2.22044605e-16,  5.10000000e+03]), array([ 0.00000000e+00,  0.00000000e+00,  1.00000000e+00, -6.66666667e-01,\n",
      "        4.00000000e+00, -4.00000000e+00,  8.00000000e+02]), array([ 1.00000000e+00,  0.00000000e+00,  0.00000000e+00, -5.55111512e-17,\n",
      "       -3.00000000e+00,  6.00000000e+00,  6.00000000e+02]), array([0.000e+00, 0.000e+00, 0.000e+00, 6.000e+00, 3.000e+00, 6.000e+00,\n",
      "       1.002e+05])]\n"
     ]
    }
   ],
   "source": [
    "if __name__:\n",
    "    mode = 'max'\n",
    "    ## TODO: BUILD THE REDUCED COST ROW GIVEN A REPRESENTATION OF THE OBJECTIVE FUNCTION\n",
    "    r1 = np.array([1,2,3/2,1,0,0,12000],dtype=float)\n",
    "    r2= np.array([2/3,2/3,1,0,1,0,4600],dtype=float)\n",
    "    r3 = np.array([1/2,1/3,1/2,0,0,1,2400],dtype=float)\n",
    "    r4=np.array([-11,-16,-15,0,0,0,0],dtype=float)\n",
    "    rows = [r1,r2,r3,r4]\n",
    "    needed = is_simplex_needed(rows[-1],mode)\n",
    "    c1,c2,c3 = get_cols(rows)\n",
    "    columns = [c1,c2,c3]\n",
    "    while needed==False:\n",
    "        \n",
    "        \n",
    "        c_selected = get_max_min_reduced_cost(mode,r4)\n",
    "        r_selected=get_min_division_row(c_selected,rows)\n",
    "        position = (c_selected[0],r_selected[0])\n",
    "        \n",
    "        column = columns[position[0]]\n",
    "        row = rows[position[1]]\n",
    "        rows.pop(position[1])\n",
    "\n",
    "        # TRANSFORM THE ROW ITSELF\n",
    "        if row[position[0]]==1:new_row_selected=row\n",
    "        else:\n",
    "           \n",
    "            new_row_selected = row / row[position[0]]\n",
    "            \n",
    "        \n",
    "        \n",
    "        # TRANSFORM THE REST OF THE ROWS\n",
    "        rows = transform_all_rows(new_row_selected,rows,position)\n",
    "        \n",
    "        rows.insert(position[1],new_row_selected)\n",
    "        c1,c2,c3 = get_cols(rows)\n",
    "        columns = [c1,c2,c3]\n",
    "        r4 = rows[-1]\n",
    "        needed=is_simplex_needed(rows[-1],mode)\n",
    "    \n",
    "\n",
    "    # GET THE SOLUTION\n",
    "    print(rows)\n",
    "\n",
    "    # WORKING"
   ]
  }
 ],
 "metadata": {
  "kernelspec": {
   "display_name": "Python 3",
   "language": "python",
   "name": "python3"
  },
  "language_info": {
   "codemirror_mode": {
    "name": "ipython",
    "version": 3
   },
   "file_extension": ".py",
   "mimetype": "text/x-python",
   "name": "python",
   "nbconvert_exporter": "python",
   "pygments_lexer": "ipython3",
   "version": "3.10.12"
  }
 },
 "nbformat": 4,
 "nbformat_minor": 2
}
